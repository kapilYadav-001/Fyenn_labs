{
 "cells": [
  {
   "cell_type": "code",
   "execution_count": 52,
   "id": "e043386c",
   "metadata": {},
   "outputs": [],
   "source": [
    "import pandas as pd\n",
    "import numpy as np\n",
    "import math\n"
   ]
  },
  {
   "cell_type": "code",
   "execution_count": 5,
   "id": "488a82b3",
   "metadata": {},
   "outputs": [],
   "source": [
    "## Reading mscdonalds csv\n",
    "data_ff = pd.read_csv(\"mcdonalds.csv\")"
   ]
  },
  {
   "cell_type": "code",
   "execution_count": 7,
   "id": "e65f796f",
   "metadata": {
    "scrolled": true
   },
   "outputs": [
    {
     "data": {
      "text/plain": [
       "Index(['yummy', 'convenient', 'spicy', 'fattening', 'greasy', 'fast', 'cheap',\n",
       "       'tasty', 'expensive', 'healthy', 'disgusting', 'Like', 'Age',\n",
       "       'VisitFrequency', 'Gender'],\n",
       "      dtype='object')"
      ]
     },
     "execution_count": 7,
     "metadata": {},
     "output_type": "execute_result"
    }
   ],
   "source": [
    "data_ff.columns"
   ]
  },
  {
   "cell_type": "code",
   "execution_count": 8,
   "id": "8e032583",
   "metadata": {},
   "outputs": [
    {
     "data": {
      "text/plain": [
       "(1453, 15)"
      ]
     },
     "execution_count": 8,
     "metadata": {},
     "output_type": "execute_result"
    }
   ],
   "source": [
    "data_ff.shape"
   ]
  },
  {
   "cell_type": "code",
   "execution_count": 9,
   "id": "6155217c",
   "metadata": {
    "scrolled": false
   },
   "outputs": [
    {
     "data": {
      "text/html": [
       "<div>\n",
       "<style scoped>\n",
       "    .dataframe tbody tr th:only-of-type {\n",
       "        vertical-align: middle;\n",
       "    }\n",
       "\n",
       "    .dataframe tbody tr th {\n",
       "        vertical-align: top;\n",
       "    }\n",
       "\n",
       "    .dataframe thead th {\n",
       "        text-align: right;\n",
       "    }\n",
       "</style>\n",
       "<table border=\"1\" class=\"dataframe\">\n",
       "  <thead>\n",
       "    <tr style=\"text-align: right;\">\n",
       "      <th></th>\n",
       "      <th>yummy</th>\n",
       "      <th>convenient</th>\n",
       "      <th>spicy</th>\n",
       "      <th>fattening</th>\n",
       "      <th>greasy</th>\n",
       "      <th>fast</th>\n",
       "      <th>cheap</th>\n",
       "      <th>tasty</th>\n",
       "      <th>expensive</th>\n",
       "      <th>healthy</th>\n",
       "      <th>disgusting</th>\n",
       "      <th>Like</th>\n",
       "      <th>Age</th>\n",
       "      <th>VisitFrequency</th>\n",
       "      <th>Gender</th>\n",
       "    </tr>\n",
       "  </thead>\n",
       "  <tbody>\n",
       "    <tr>\n",
       "      <th>0</th>\n",
       "      <td>No</td>\n",
       "      <td>Yes</td>\n",
       "      <td>No</td>\n",
       "      <td>Yes</td>\n",
       "      <td>No</td>\n",
       "      <td>Yes</td>\n",
       "      <td>Yes</td>\n",
       "      <td>No</td>\n",
       "      <td>Yes</td>\n",
       "      <td>No</td>\n",
       "      <td>No</td>\n",
       "      <td>-3</td>\n",
       "      <td>61</td>\n",
       "      <td>Every three months</td>\n",
       "      <td>Female</td>\n",
       "    </tr>\n",
       "    <tr>\n",
       "      <th>1</th>\n",
       "      <td>Yes</td>\n",
       "      <td>Yes</td>\n",
       "      <td>No</td>\n",
       "      <td>Yes</td>\n",
       "      <td>Yes</td>\n",
       "      <td>Yes</td>\n",
       "      <td>Yes</td>\n",
       "      <td>Yes</td>\n",
       "      <td>Yes</td>\n",
       "      <td>No</td>\n",
       "      <td>No</td>\n",
       "      <td>+2</td>\n",
       "      <td>51</td>\n",
       "      <td>Every three months</td>\n",
       "      <td>Female</td>\n",
       "    </tr>\n",
       "    <tr>\n",
       "      <th>2</th>\n",
       "      <td>No</td>\n",
       "      <td>Yes</td>\n",
       "      <td>Yes</td>\n",
       "      <td>Yes</td>\n",
       "      <td>Yes</td>\n",
       "      <td>Yes</td>\n",
       "      <td>No</td>\n",
       "      <td>Yes</td>\n",
       "      <td>Yes</td>\n",
       "      <td>Yes</td>\n",
       "      <td>No</td>\n",
       "      <td>+1</td>\n",
       "      <td>62</td>\n",
       "      <td>Every three months</td>\n",
       "      <td>Female</td>\n",
       "    </tr>\n",
       "  </tbody>\n",
       "</table>\n",
       "</div>"
      ],
      "text/plain": [
       "  yummy convenient spicy fattening greasy fast cheap tasty expensive healthy  \\\n",
       "0    No        Yes    No       Yes     No  Yes   Yes    No       Yes      No   \n",
       "1   Yes        Yes    No       Yes    Yes  Yes   Yes   Yes       Yes      No   \n",
       "2    No        Yes   Yes       Yes    Yes  Yes    No   Yes       Yes     Yes   \n",
       "\n",
       "  disgusting Like  Age      VisitFrequency  Gender  \n",
       "0         No   -3   61  Every three months  Female  \n",
       "1         No   +2   51  Every three months  Female  \n",
       "2         No   +1   62  Every three months  Female  "
      ]
     },
     "execution_count": 9,
     "metadata": {},
     "output_type": "execute_result"
    }
   ],
   "source": [
    "data_ff.head(3)"
   ]
  },
  {
   "cell_type": "code",
   "execution_count": 29,
   "id": "698327d1",
   "metadata": {},
   "outputs": [],
   "source": [
    "mat = data_ff.iloc[:,0:11]"
   ]
  },
  {
   "cell_type": "code",
   "execution_count": 32,
   "id": "512cbcf2",
   "metadata": {},
   "outputs": [],
   "source": [
    "## Converting categories into Numerical values\n",
    "mat.replace(('Yes','No'),(1,0),inplace=True)"
   ]
  },
  {
   "cell_type": "code",
   "execution_count": 33,
   "id": "1b194f65",
   "metadata": {
    "scrolled": false
   },
   "outputs": [
    {
     "name": "stdout",
     "output_type": "stream",
     "text": [
      "      yummy  convenient  spicy  fattening  greasy  fast  cheap  tasty  \\\n",
      "0         0           1      0          1       0     1      1      0   \n",
      "1         1           1      0          1       1     1      1      1   \n",
      "2         0           1      1          1       1     1      0      1   \n",
      "3         1           1      0          1       1     1      1      1   \n",
      "4         0           1      0          1       1     1      1      0   \n",
      "...     ...         ...    ...        ...     ...   ...    ...    ...   \n",
      "1448      0           1      0          1       1     0      0      0   \n",
      "1449      1           1      0          1       0     0      1      1   \n",
      "1450      1           1      0          1       0     1      0      1   \n",
      "1451      1           1      0          0       0     1      1      1   \n",
      "1452      0           1      0          1       1     0      0      0   \n",
      "\n",
      "      expensive  healthy  disgusting  \n",
      "0             1        0           0  \n",
      "1             1        0           0  \n",
      "2             1        1           0  \n",
      "3             0        0           1  \n",
      "4             0        1           0  \n",
      "...         ...      ...         ...  \n",
      "1448          1        0           1  \n",
      "1449          0        1           0  \n",
      "1450          1        0           0  \n",
      "1451          0        1           0  \n",
      "1452          1        0           1  \n",
      "\n",
      "[1453 rows x 11 columns]\n"
     ]
    }
   ],
   "source": [
    "print(mat)"
   ]
  },
  {
   "cell_type": "code",
   "execution_count": 37,
   "id": "5f085c7d",
   "metadata": {
    "scrolled": true
   },
   "outputs": [
    {
     "name": "stdout",
     "output_type": "stream",
     "text": [
      "yummy         0.55\n",
      "convenient    0.91\n",
      "spicy         0.09\n",
      "fattening     0.87\n",
      "greasy        0.53\n",
      "fast          0.90\n",
      "cheap         0.60\n",
      "tasty         0.64\n",
      "expensive     0.36\n",
      "healthy       0.20\n",
      "disgusting    0.24\n",
      "dtype: float64\n"
     ]
    }
   ],
   "source": [
    "print(round(mat.mean(),2))"
   ]
  },
  {
   "cell_type": "markdown",
   "id": "c487b90f",
   "metadata": {},
   "source": [
    "##### Performing pca "
   ]
  },
  {
   "cell_type": "code",
   "execution_count": 68,
   "id": "1e4087db",
   "metadata": {},
   "outputs": [],
   "source": [
    "from sklearn.decomposition import PCA\n",
    "pca = PCA()\n",
    "\n",
    "principalComponents = pca.fit_transform(mat)\n"
   ]
  },
  {
   "cell_type": "code",
   "execution_count": 69,
   "id": "8fbe89de",
   "metadata": {
    "scrolled": true
   },
   "outputs": [
    {
     "name": "stdout",
     "output_type": "stream",
     "text": [
      "[0.75704952 0.60745556 0.50461946 0.39879859 0.33740501 0.31027461\n",
      " 0.28969732 0.27512196 0.2652511  0.24884182 0.23690284]\n",
      "[0.29944723 0.19279721 0.13304535 0.08309578 0.05948052 0.05029956\n",
      " 0.0438491  0.03954779 0.0367609  0.03235329 0.02932326]\n",
      "[0.29944723 0.49224445 0.6252898  0.70838558 0.7678661  0.81816566\n",
      " 0.86201476 0.90156255 0.93832345 0.97067674 1.        ]\n"
     ]
    }
   ],
   "source": [
    "print(np.sqrt(pca.explained_variance_))\n",
    "print(pca.explained_variance_ratio_)\n",
    "print(np.cumsum(pca.explained_variance_ratio_))"
   ]
  },
  {
   "cell_type": "code",
   "execution_count": 70,
   "id": "f28af7a6",
   "metadata": {
    "scrolled": true
   },
   "outputs": [
    {
     "name": "stdout",
     "output_type": "stream",
     "text": [
      "[1. 1. 1. 1. 1. 1. 1. 1. 1. 1. 1.] 3\n"
     ]
    }
   ],
   "source": [
    "print(np.ceil(np.sqrt(pca.explained_variance_)),3)"
   ]
  },
  {
   "cell_type": "code",
   "execution_count": 71,
   "id": "b85544b0",
   "metadata": {
    "scrolled": true
   },
   "outputs": [
    {
     "data": {
      "text/plain": [
       "(1453, 11)"
      ]
     },
     "execution_count": 71,
     "metadata": {},
     "output_type": "execute_result"
    }
   ],
   "source": [
    "principalComponents.shape"
   ]
  },
  {
   "cell_type": "markdown",
   "id": "ad2cb94b",
   "metadata": {},
   "source": [
    "###### Creating perpetual graph for pca"
   ]
  },
  {
   "cell_type": "code",
   "execution_count": 112,
   "id": "c56ae4fd",
   "metadata": {
    "scrolled": false
   },
   "outputs": [
    {
     "data": {
      "image/png": "[encoded data removed]",
      "text/plain": [
       "<Figure size 800x550 with 1 Axes>"
      ]
     },
     "metadata": {},
     "output_type": "display_data"
    },
    {
     "data": {
      "text/plain": [
       "<AxesSubplot:title={'center':'Principal Component Plot'}, xlabel='$PC_1$', ylabel='$PC_2$'>"
      ]
     },
     "execution_count": 112,
     "metadata": {},
     "output_type": "execute_result"
    }
   ],
   "source": [
    "from yellowbrick.features.pca import PCADecomposition\n",
    "visualizer = PCADecomposition(scale=True, proj_features = True, color = 'PRGn')\n",
    "y = {0:'yummy', 1:'convenient', 2:'spicy', 3:'fattening', 4:'greasy', 5:'fast', 6:'cheap',\n",
    "       7:'tasty', 8:'expensive', 9:'healthy', 10:'disgusting'}\n",
    "visualizer.fit_transform(principalComponents,)\n",
    "visualizer.show()"
   ]
  },
  {
   "cell_type": "markdown",
   "id": "08c929b2",
   "metadata": {},
   "source": [
    "### Extracting segments"
   ]
  },
  {
   "cell_type": "markdown",
   "id": "a36affda",
   "metadata": {},
   "source": [
    "#### Using K-Means"
   ]
  },
  {
   "cell_type": "code",
   "execution_count": 113,
   "id": "952fc344",
   "metadata": {},
   "outputs": [],
   "source": [
    "from sklearn.cluster import KMeans\n",
    "\n",
    "kmeans_kwargs = {\n",
    "    \"init\": \"random\",\n",
    "    \"n_init\": 10,\n",
    "    \"random_state\": 1234,\n",
    "}\n",
    "\n",
    "# A list holds the SSE values for each k\n",
    "sse = []\n",
    "for k in range(2, 9):\n",
    "    kmeans = KMeans(n_clusters=k, **kmeans_kwargs)\n",
    "    kmeans.fit(mat)\n",
    "    sse.append(kmeans.inertia_)"
   ]
  },
  {
   "cell_type": "code",
   "execution_count": 114,
   "id": "f21c98ba",
   "metadata": {
    "scrolled": false
   },
   "outputs": [
    {
     "data": {
      "image/png": "[encoded data removed]",
      "text/plain": [
       "<Figure size 800x550 with 1 Axes>"
      ]
     },
     "metadata": {},
     "output_type": "display_data"
    }
   ],
   "source": [
    "from matplotlib import pyplot as plt\n",
    "plt.bar(range(2,9),sse)\n",
    "plt.xlabel('no of segments')\n",
    "plt.ylabel('sum of within distances')\n",
    "\n",
    "plt.show()\n"
   ]
  },
  {
   "cell_type": "markdown",
   "id": "d31649de",
   "metadata": {},
   "source": [
    "#### Using Mixtures of Distributions"
   ]
  },
  {
   "cell_type": "markdown",
   "id": "1e5cf884",
   "metadata": {},
   "source": [
    "##### Gaussian mixture models"
   ]
  },
  {
   "cell_type": "code",
   "execution_count": 130,
   "id": "c38f3d02",
   "metadata": {},
   "outputs": [],
   "source": [
    "from sklearn.mixture import GaussianMixture\n",
    "Gmm = GaussianMixture(n_components=4, random_state=1234)\n",
    "Gmm.fit(mat)\n",
    "\n",
    "# Get cluster labels from the GMM model\n",
    "Gmm_clusters = Gmm.predict(mat)\n",
    "\n",
    "# Add cluster labels to the original DataFrame\n",
    "data_ff['GMM_Cluster'] = Gmm_clusters\n"
   ]
  },
  {
   "cell_type": "markdown",
   "id": "76e5e259",
   "metadata": {},
   "source": [
    "##### using mixture of regression models"
   ]
  },
  {
   "cell_type": "code",
   "execution_count": 132,
   "id": "0da7194c",
   "metadata": {
    "scrolled": false
   },
   "outputs": [
    {
     "data": {
      "text/plain": [
       "0                 -3\n",
       "1                 +2\n",
       "2                 +1\n",
       "3                 +4\n",
       "4                 +2\n",
       "            ...     \n",
       "1448    I hate it!-5\n",
       "1449              +2\n",
       "1450              +3\n",
       "1451              +4\n",
       "1452              -3\n",
       "Name: Like, Length: 1453, dtype: object"
      ]
     },
     "execution_count": 132,
     "metadata": {},
     "output_type": "execute_result"
    }
   ],
   "source": [
    "data_ff['Like']"
   ]
  },
  {
   "cell_type": "code",
   "execution_count": 159,
   "id": "ff5b1cb0",
   "metadata": {
    "scrolled": true
   },
   "outputs": [],
   "source": [
    "import regex as re\n",
    "data_ff[\"Like.n\"]= data_ff['Like'].apply(lambda x : int(re.findall(r'-?\\d+\\.?\\d*',x)[0]))\n"
   ]
  },
  {
   "cell_type": "code",
   "execution_count": 180,
   "id": "559979ef",
   "metadata": {},
   "outputs": [],
   "source": [
    "mat['Like']=data_ff[\"Like.n\"]"
   ]
  },
  {
   "cell_type": "code",
   "execution_count": 163,
   "id": "f97e00c3",
   "metadata": {},
   "outputs": [
    {
     "data": {
      "text/plain": [
       " 3    229\n",
       " 2    187\n",
       " 0    169\n",
       " 4    160\n",
       " 1    152\n",
       "-5    152\n",
       " 5    143\n",
       "-3     73\n",
       "-4     71\n",
       "-2     59\n",
       "-1     58\n",
       "Name: Like.n, dtype: int64"
      ]
     },
     "execution_count": 163,
     "metadata": {},
     "output_type": "execute_result"
    }
   ],
   "source": [
    "data_ff[\"Like.n\"].value_counts()"
   ]
  },
  {
   "cell_type": "code",
   "execution_count": 181,
   "id": "b6289787",
   "metadata": {},
   "outputs": [],
   "source": [
    "ind_vars = ['yummy', 'convenient', 'spicy', 'fattening', 'greasy','fast', 'cheap', 'tasty', 'expensive', 'healthy', 'disgusting']\n",
    "                    \n",
    "formula = 'Like' + '~' + ' + '.join(ind_vars)"
   ]
  },
  {
   "cell_type": "code",
   "execution_count": 164,
   "id": "160d8062",
   "metadata": {
    "collapsed": true
   },
   "outputs": [
    {
     "name": "stdout",
     "output_type": "stream",
     "text": [
      "Collecting pymix\n",
      "  Downloading pymix-0.8b.tar.gz (127 kB)\n",
      "     -------------------------------------- 127.4/127.4 kB 2.5 MB/s eta 0:00:00\n",
      "  Preparing metadata (setup.py): started\n",
      "  Preparing metadata (setup.py): finished with status 'error'\n"
     ]
    },
    {
     "name": "stderr",
     "output_type": "stream",
     "text": [
      "  error: subprocess-exited-with-error\n",
      "  \n",
      "  python setup.py egg_info did not run successfully.\n",
      "  exit code: 1\n",
      "  \n",
      "  [6 lines of output]\n",
      "  Traceback (most recent call last):\n",
      "    File \"<string>\", line 2, in <module>\n",
      "    File \"<pip-setuptools-caller>\", line 34, in <module>\n",
      "    File \"C:\\Users\\cnctk\\AppData\\Local\\Temp\\pip-install-_m410x16\\pymix_b8b6e66012fa40e5b876b13e87caee44\\setup.py\", line 11, in <module>\n",
      "      with open('README.rst') as f:\n",
      "  FileNotFoundError: [Errno 2] No such file or directory: 'README.rst'\n",
      "  [end of output]\n",
      "  \n",
      "  note: This error originates from a subprocess, and is likely not a problem with pip.\n",
      "error: metadata-generation-failed\n",
      "\n",
      "Encountered error while generating package metadata.\n",
      "\n",
      "See above for output.\n",
      "\n",
      "note: This is an issue with the package mentioned above, not pip.\n",
      "hint: See above for details.\n"
     ]
    }
   ],
   "source": [
    "! pip install pymix"
   ]
  },
  {
   "cell_type": "code",
   "execution_count": 169,
   "id": "0634a321",
   "metadata": {},
   "outputs": [],
   "source": [
    "# Fitting a finite mixture of linear regression models\n",
    "k = 2  # Number of clusters\n",
    "nrep = 10  # Number of random starts\n",
    "np.random.seed(1234)\n",
    "kmeans = KMeans(n_clusters=k, n_init=nrep)\n",
    "mat['Cluster'] = kmeans.fit_predict(mat[ind_vars])\n"
   ]
  },
  {
   "cell_type": "code",
   "execution_count": 171,
   "id": "d20425b3",
   "metadata": {},
   "outputs": [],
   "source": [
    "# Summary of cluster sizes\n",
    "cluster_sizes = mat['Cluster'].value_counts()\n"
   ]
  },
  {
   "cell_type": "code",
   "execution_count": 172,
   "id": "36a1711c",
   "metadata": {
    "scrolled": true
   },
   "outputs": [
    {
     "data": {
      "text/plain": [
       "0    896\n",
       "1    557\n",
       "Name: Cluster, dtype: int64"
      ]
     },
     "execution_count": 172,
     "metadata": {},
     "output_type": "execute_result"
    }
   ],
   "source": [
    "cluster_sizes"
   ]
  },
  {
   "cell_type": "code",
   "execution_count": 175,
   "id": "cd648ce2",
   "metadata": {},
   "outputs": [],
   "source": [
    "import statsmodels.api as sm\n",
    "import statsmodels.formula.api as smf"
   ]
  },
  {
   "cell_type": "code",
   "execution_count": 183,
   "id": "7e7c6672",
   "metadata": {},
   "outputs": [],
   "source": [
    "# Creating and fitting linear regression models for each cluster\n",
    "models = []\n",
    "for cluster in range(k):\n",
    "    subset = mat[mat['Cluster'] == cluster]\n",
    "    model = smf.ols(formula, data=subset).fit()\n",
    "    models.append(model)"
   ]
  },
  {
   "cell_type": "code",
   "execution_count": 184,
   "id": "bb4fd73b",
   "metadata": {},
   "outputs": [],
   "source": [
    "# Extracting coefficients for each cluster\n",
    "coefficients = pd.DataFrame()\n",
    "for cluster, model in enumerate(models):\n",
    "    coef = model.params.reset_index()\n",
    "    coef.columns = ['Variable', f'Cluster{cluster+1}']\n",
    "    coefficients = pd.concat([coefficients, coef.iloc[1:]])  # Exclude Intercept\n"
   ]
  },
  {
   "cell_type": "code",
   "execution_count": 186,
   "id": "1c5341db",
   "metadata": {},
   "outputs": [
    {
     "data": {
      "image/png": "[encoded data removed]",
      "text/plain": [
       "<Figure size 800x550 with 1 Axes>"
      ]
     },
     "metadata": {},
     "output_type": "display_data"
    }
   ],
   "source": [
    "sns.barplot(data=coefficients, x='Cluster1', y='Variable')\n",
    "plt.title('Regression Coefficients for Each Cluster')\n",
    "plt.xlabel('Coefficients')\n",
    "plt.ylabel('Variables')\n",
    "plt.show()\n",
    "\n"
   ]
  },
  {
   "cell_type": "code",
   "execution_count": 190,
   "id": "da002e86",
   "metadata": {},
   "outputs": [
    {
     "data": {
      "image/png": "[encoded data removed]",
      "text/plain": [
       "<Figure size 800x550 with 3 Axes>"
      ]
     },
     "metadata": {},
     "output_type": "display_data"
    }
   ],
   "source": [
    "# Mosaic plot for cross-tabulation of segment membership and 'Like' variable\n",
    "from statsmodels.graphics.mosaicplot import mosaic\n",
    "mosaic(mat, ['Cluster', 'Like'])\n",
    "plt.title('Segment vs. Like (Mosaic Plot)')\n",
    "plt.show()"
   ]
  },
  {
   "cell_type": "code",
   "execution_count": null,
   "id": "e5053ad3",
   "metadata": {},
   "outputs": [],
   "source": []
  }
 ],
 "metadata": {
  "kernelspec": {
   "display_name": "Python 3 (ipykernel)",
   "language": "python",
   "name": "python3"
  },
  "language_info": {
   "codemirror_mode": {
    "name": "ipython",
    "version": 3
   },
   "file_extension": ".py",
   "mimetype": "text/x-python",
   "name": "python",
   "nbconvert_exporter": "python",
   "pygments_lexer": "ipython3",
   "version": "3.9.13"
  }
 },
 "nbformat": 4,
 "nbformat_minor": 5
}
